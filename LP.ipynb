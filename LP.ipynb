{
 "cells": [
  {
   "cell_type": "markdown",
   "metadata": {},
   "source": [
    "![title](img1.png)"
   ]
  },
  {
   "cell_type": "code",
   "execution_count": 2,
   "metadata": {},
   "outputs": [
    {
     "name": "stderr",
     "output_type": "stream",
     "text": [
      "Matplotlib is building the font cache; this may take a moment.\n"
     ]
    }
   ],
   "source": [
    "import numpy as np\n",
    "from matplotlib import pyplot as plt"
   ]
  },
  {
   "cell_type": "code",
   "execution_count": 62,
   "metadata": {},
   "outputs": [],
   "source": [
    "class LP(object):\n",
    "    def __init__(self, A: np.array, b: np.array, c: np.array):\n",
    "        self.A = A\n",
    "        self.b = b\n",
    "        self.c = c\n",
    "        self.n, self.m = A.shape\n",
    "        self.solution = None\n",
    "        self.start_solution = None\n",
    "        self.basis = None\n",
    "\n",
    "        self.simplex = np.zeros(shape=(self.n + 1, self.n + self.m + 2))\n",
    "        self.simplex[:-1, : self.m] = A\n",
    "        self.simplex[:-1, self.m : -2] = np.identity(n=self.n)\n",
    "        self.simplex[-1, : self.m] = -c\n",
    "        self.simplex[-1, -2] = 1\n",
    "        self.simplex[:-1, -1] = b\n",
    "\n",
    "        # print(self.simplex.astype('int32'))\n",
    "\n",
    "    def get_start_solution(self):\n",
    "        pass\n",
    "\n",
    "    def simplex_method(self):\n",
    "        while True:\n",
    "            pivot_col = np.argmin(self.simplex[-1, :-2])\n",
    "            indicator = self.simplex[-1, pivot_col]\n",
    "\n",
    "            if indicator >= 0:\n",
    "                print(\"Simplex table is optimized\")\n",
    "                break\n",
    "\n",
    "            min_value = 10**10\n",
    "            has_first = False\n",
    "            pivot_row = 0\n",
    "\n",
    "            for i in range(self.n):\n",
    "                if (\n",
    "                    self.simplex[i, pivot_col] > 0\n",
    "                    and self.simplex[i, -1] / self.simplex[i, pivot_col] < min_value\n",
    "                ):\n",
    "                    min_value = self.simplex[i, -1] / self.simplex[i, pivot_col]\n",
    "                    pivot_row = i\n",
    "                    has_first = True\n",
    "\n",
    "            if not has_first:\n",
    "                print(\"Maximum is not feasible\")\n",
    "                break\n",
    "\n",
    "            self.pivot(np.array([pivot_row, pivot_col]))\n",
    "\n",
    "    def pivot(self, pivot_indx: np.array):\n",
    "        p_i, p_j = pivot_indx\n",
    "        pivot_val = self.simplex[p_i, p_j]\n",
    "\n",
    "        if pivot_val == 0:\n",
    "            return\n",
    "\n",
    "        for i in range(self.n + 1):\n",
    "            cur_val = self.simplex[i, p_j]\n",
    "\n",
    "            if p_i != i and cur_val != 0:\n",
    "                self.simplex[i, :] = (\n",
    "                    self.simplex[i, :] * pivot_val - self.simplex[p_i, :] * cur_val\n",
    "                )\n",
    "\n",
    "                if self.simplex[i, -1] < 0:\n",
    "                    self.simplex[i, :] *= -1\n",
    "\n",
    "                if self.simplex[-1, -2] < 0:\n",
    "                    self.simplex[-1, :] *= -1\n",
    "\n",
    "    def get_basis(self):\n",
    "        basis_indx = []\n",
    "\n",
    "        for j in range(self.n + self.m + 1):\n",
    "            if len(self.simplex[self.simplex[:, j] != 0]) == 1:\n",
    "                basis_indx.append(j)\n",
    "        \n",
    "        basis_indx = np.array(basis_indx)\n",
    "        self.basis = basis_indx.astype('int32')\n",
    "\n",
    "    def get_optimum(self):\n",
    "        A_inv = np.linalg.inv(self.simplex[:, self.basis])\n",
    "        self.solution = A_inv.dot(self.simplex[:, -1])\n",
    "\n",
    "        return self.solution"
   ]
  },
  {
   "cell_type": "code",
   "execution_count": 71,
   "metadata": {},
   "outputs": [],
   "source": [
    "A = np.array([\n",
    "    [1, 2], \n",
    "    [3, 2],\n",
    "])\n",
    "\n",
    "b = np.array([120, 192])\n",
    "c = np.array([3, 4])"
   ]
  },
  {
   "cell_type": "code",
   "execution_count": 73,
   "metadata": {},
   "outputs": [
    {
     "name": "stdout",
     "output_type": "stream",
     "text": [
      "Simplex table is optimized\n",
      "[[   0    8    6   -2    0  336]\n",
      " [   4    0   -2    2    0  144]\n",
      " [   0    0   12    4    8 2208]]\n",
      "[0 1 4]\n",
      "Optimum is [ 36.  42. 276.]\n"
     ]
    }
   ],
   "source": [
    "P = LP(A, b, c)\n",
    "P.simplex_method()\n",
    "P.get_basis()\n",
    "\n",
    "opt = P.get_optimum()\n",
    "\n",
    "print(P.simplex.astype(\"int32\"))\n",
    "print(P.basis)\n",
    "print(f'Optimum is {opt}')"
   ]
  },
  {
   "cell_type": "code",
   "execution_count": 52,
   "metadata": {},
   "outputs": [
    {
     "data": {
      "image/png": "[encoded data removed]",
      "text/plain": [
       "<Figure size 640x480 with 1 Axes>"
      ]
     },
     "metadata": {},
     "output_type": "display_data"
    }
   ],
   "source": [
    "x = [0, 300]\n",
    "y1 = [480, 180]\n",
    "y2 = [400, 200]\n",
    "\n",
    "plt.plot(x, y1, 'r')\n",
    "plt.plot(x, y2, \"b\")\n",
    "\n",
    "plt.show()"
   ]
  },
  {
   "cell_type": "code",
   "execution_count": null,
   "metadata": {},
   "outputs": [],
   "source": []
  }
 ],
 "metadata": {
  "kernelspec": {
   "display_name": ".venv",
   "language": "python",
   "name": "python3"
  },
  "language_info": {
   "codemirror_mode": {
    "name": "ipython",
    "version": 3
   },
   "file_extension": ".py",
   "mimetype": "text/x-python",
   "name": "python",
   "nbconvert_exporter": "python",
   "pygments_lexer": "ipython3",
   "version": "3.11.5"
  }
 },
 "nbformat": 4,
 "nbformat_minor": 2
}
